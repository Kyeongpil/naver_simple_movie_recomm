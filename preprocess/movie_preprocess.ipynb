{
 "cells": [
  {
   "cell_type": "code",
   "execution_count": 259,
   "metadata": {},
   "outputs": [],
   "source": [
    "import sentencepiece as spm\n",
    "import ujson as json\n",
    "from google.cloud import storage\n",
    "from tqdm import tqdm_notebook\n",
    "from glob import glob\n",
    "from collections import Counter\n",
    "import os\n",
    "from itertools import chain\n",
    "\n",
    "os.environ['GOOGLE_APPLICATION_CREDENTIALS'] = 'My First Project-a8fa96d92514.json'\n",
    "PROJECT_NAME = 'My First Project'\n",
    "CLOUD_STORAGE_BUCKET = 'naver-crawl-storage'\n",
    "storage.Client()\n",
    "client = storage.Client(project=PROJECT_NAME)\n",
    "bucket = client.get_bucket(CLOUD_STORAGE_BUCKET)"
   ]
  },
  {
   "cell_type": "code",
   "execution_count": 260,
   "metadata": {},
   "outputs": [],
   "source": [
    "with open('../movie_data.json', 'r') as f:\n",
    "    data = json.load(f)"
   ]
  },
  {
   "cell_type": "code",
   "execution_count": 261,
   "metadata": {},
   "outputs": [
    {
     "ename": "TypeError",
     "evalue": "argument of type 'int' is not iterable",
     "output_type": "error",
     "traceback": [
      "\u001b[0;31m---------------------------------------------------------------------------\u001b[0m",
      "\u001b[0;31mTypeError\u001b[0m                                 Traceback (most recent call last)",
      "\u001b[0;32m<ipython-input-261-f0c88cc2d4f2>\u001b[0m in \u001b[0;36m<module>\u001b[0;34m\u001b[0m\n\u001b[0;32m----> 1\u001b[0;31m data2 = [d for d in data if '분' in d['runtime'] and '분' not in d['countries'] \\\n\u001b[0m\u001b[1;32m      2\u001b[0m          and 'TV영화' not in d['countries'] and '웹무비' not in d['countries']]\n\u001b[1;32m      3\u001b[0m \u001b[0;34m\u001b[0m\u001b[0m\n\u001b[1;32m      4\u001b[0m \u001b[0;32mfor\u001b[0m \u001b[0mi\u001b[0m \u001b[0;32min\u001b[0m \u001b[0mrange\u001b[0m\u001b[0;34m(\u001b[0m\u001b[0mlen\u001b[0m\u001b[0;34m(\u001b[0m\u001b[0mdata2\u001b[0m\u001b[0;34m)\u001b[0m\u001b[0;34m)\u001b[0m\u001b[0;34m:\u001b[0m\u001b[0;34m\u001b[0m\u001b[0;34m\u001b[0m\u001b[0m\n\u001b[1;32m      5\u001b[0m     \u001b[0mdata2\u001b[0m\u001b[0;34m[\u001b[0m\u001b[0mi\u001b[0m\u001b[0;34m]\u001b[0m\u001b[0;34m[\u001b[0m\u001b[0;34m'countries'\u001b[0m\u001b[0;34m]\u001b[0m \u001b[0;34m=\u001b[0m \u001b[0mset\u001b[0m\u001b[0;34m(\u001b[0m\u001b[0mdata2\u001b[0m\u001b[0;34m[\u001b[0m\u001b[0mi\u001b[0m\u001b[0;34m]\u001b[0m\u001b[0;34m[\u001b[0m\u001b[0;34m'countries'\u001b[0m\u001b[0;34m]\u001b[0m\u001b[0;34m.\u001b[0m\u001b[0mreplace\u001b[0m\u001b[0;34m(\u001b[0m\u001b[0;34m'독일(구서독)'\u001b[0m\u001b[0;34m,\u001b[0m \u001b[0;34m'독일'\u001b[0m\u001b[0;34m)\u001b[0m\u001b[0;34m.\u001b[0m\u001b[0msplit\u001b[0m\u001b[0;34m(\u001b[0m\u001b[0;34m','\u001b[0m\u001b[0;34m)\u001b[0m\u001b[0;34m)\u001b[0m\u001b[0;34m\u001b[0m\u001b[0;34m\u001b[0m\u001b[0m\n",
      "\u001b[0;32m<ipython-input-261-f0c88cc2d4f2>\u001b[0m in \u001b[0;36m<listcomp>\u001b[0;34m(.0)\u001b[0m\n\u001b[0;32m----> 1\u001b[0;31m data2 = [d for d in data if '분' in d['runtime'] and '분' not in d['countries'] \\\n\u001b[0m\u001b[1;32m      2\u001b[0m          and 'TV영화' not in d['countries'] and '웹무비' not in d['countries']]\n\u001b[1;32m      3\u001b[0m \u001b[0;34m\u001b[0m\u001b[0m\n\u001b[1;32m      4\u001b[0m \u001b[0;32mfor\u001b[0m \u001b[0mi\u001b[0m \u001b[0;32min\u001b[0m \u001b[0mrange\u001b[0m\u001b[0;34m(\u001b[0m\u001b[0mlen\u001b[0m\u001b[0;34m(\u001b[0m\u001b[0mdata2\u001b[0m\u001b[0;34m)\u001b[0m\u001b[0;34m)\u001b[0m\u001b[0;34m:\u001b[0m\u001b[0;34m\u001b[0m\u001b[0;34m\u001b[0m\u001b[0m\n\u001b[1;32m      5\u001b[0m     \u001b[0mdata2\u001b[0m\u001b[0;34m[\u001b[0m\u001b[0mi\u001b[0m\u001b[0;34m]\u001b[0m\u001b[0;34m[\u001b[0m\u001b[0;34m'countries'\u001b[0m\u001b[0;34m]\u001b[0m \u001b[0;34m=\u001b[0m \u001b[0mset\u001b[0m\u001b[0;34m(\u001b[0m\u001b[0mdata2\u001b[0m\u001b[0;34m[\u001b[0m\u001b[0mi\u001b[0m\u001b[0;34m]\u001b[0m\u001b[0;34m[\u001b[0m\u001b[0;34m'countries'\u001b[0m\u001b[0;34m]\u001b[0m\u001b[0;34m.\u001b[0m\u001b[0mreplace\u001b[0m\u001b[0;34m(\u001b[0m\u001b[0;34m'독일(구서독)'\u001b[0m\u001b[0;34m,\u001b[0m \u001b[0;34m'독일'\u001b[0m\u001b[0;34m)\u001b[0m\u001b[0;34m.\u001b[0m\u001b[0msplit\u001b[0m\u001b[0;34m(\u001b[0m\u001b[0;34m','\u001b[0m\u001b[0;34m)\u001b[0m\u001b[0;34m)\u001b[0m\u001b[0;34m\u001b[0m\u001b[0;34m\u001b[0m\u001b[0m\n",
      "\u001b[0;31mTypeError\u001b[0m: argument of type 'int' is not iterable"
     ]
    }
   ],
   "source": [
    "data2 = [d for d in data if '분' in d['runtime'] and '분' not in d['countries'] \\\n",
    "         and 'TV영화' not in d['countries'] and '웹무비' not in d['countries']]\n",
    "\n",
    "for i in range(len(data2)):\n",
    "    data2[i]['countries'] = set(data2[i]['countries'].replace('독일(구서독)', '독일').split(','))\n",
    "    data2[i]['runtime'] = int(data2[i]['runtime'].replace('분', ''))\n",
    "    data2[i]['categories'] = set(data2[i]['categories'].split(','))"
   ]
  },
  {
   "cell_type": "code",
   "execution_count": null,
   "metadata": {},
   "outputs": [],
   "source": [
    "countries = Counter(chain(*[d['countries'] for d in data2]))\n",
    "countries = set([nation for nation, count in countries.items() if count >= 20])\n",
    "categories = Counter(chain(*[d['categories'] for d in data2]))\n",
    "categories = set([category for category, count in categories.items() if count >= 20])\n",
    "\n",
    "\n",
    "data2 = [d for d in data2 if d['countries'].issubset(countries) and d['categories'].issubset(categories)]"
   ]
  },
  {
   "cell_type": "code",
   "execution_count": 257,
   "metadata": {},
   "outputs": [
    {
     "data": {
      "text/plain": [
       "13367"
      ]
     },
     "execution_count": 257,
     "metadata": {},
     "output_type": "execute_result"
    }
   ],
   "source": [
    "len(data2)"
   ]
  },
  {
   "cell_type": "code",
   "execution_count": 253,
   "metadata": {},
   "outputs": [
    {
     "data": {
      "text/plain": [
       "Counter({'드라마': 6463,\n",
       "         '코미디': 2842,\n",
       "         '뮤지컬': 150,\n",
       "         '액션': 2923,\n",
       "         '판타지': 926,\n",
       "         '가족': 753,\n",
       "         '모험': 1208,\n",
       "         '애니메이션': 976,\n",
       "         '다큐멘터리': 486,\n",
       "         '공연실황': 83,\n",
       "         '멜로/로맨스': 2502,\n",
       "         '스릴러': 2454,\n",
       "         '공포': 1060,\n",
       "         '미스터리': 669,\n",
       "         '범죄': 1178,\n",
       "         'SF': 852,\n",
       "         '전쟁': 383,\n",
       "         '에로': 130,\n",
       "         '서부': 92,\n",
       "         '느와르': 63,\n",
       "         '서스펜스': 46,\n",
       "         '무협': 40})"
      ]
     },
     "execution_count": 253,
     "metadata": {},
     "output_type": "execute_result"
    }
   ],
   "source": [
    "categories = Counter(chain(*[d['categories'] for d in data2]))\n",
    "categories"
   ]
  },
  {
   "cell_type": "code",
   "execution_count": 254,
   "metadata": {},
   "outputs": [
    {
     "data": {
      "text/plain": [
       "Counter({'한국': 3860,\n",
       "         '스페인': 273,\n",
       "         '미국': 5069,\n",
       "         '영국': 983,\n",
       "         '프랑스': 1086,\n",
       "         '캐나다': 354,\n",
       "         '중국': 390,\n",
       "         '일본': 1268,\n",
       "         '대만': 66,\n",
       "         '러시아연방': 99,\n",
       "         '폴란드': 41,\n",
       "         '홍콩': 480,\n",
       "         '독일': 560,\n",
       "         '터키': 21,\n",
       "         '오스트레일리아': 155,\n",
       "         '아일랜드': 77,\n",
       "         '인도': 52,\n",
       "         '체코': 37,\n",
       "         '태국': 50,\n",
       "         '이탈리아': 285,\n",
       "         '뉴질랜드': 32,\n",
       "         '헝가리': 32,\n",
       "         '네덜란드': 70,\n",
       "         '스위스': 53,\n",
       "         '이란': 27,\n",
       "         '덴마크': 90,\n",
       "         '벨기에': 110,\n",
       "         '스웨덴': 88,\n",
       "         '이스라엘': 20,\n",
       "         '오스트리아': 40,\n",
       "         '아르헨티나': 31,\n",
       "         '노르웨이': 39,\n",
       "         '멕시코': 58,\n",
       "         '루마니아': 23,\n",
       "         '브라질': 29,\n",
       "         '핀란드': 31})"
      ]
     },
     "execution_count": 254,
     "metadata": {},
     "output_type": "execute_result"
    }
   ],
   "source": [
    "countries = Counter(chain(*[d['countries'] for d in data2]))\n",
    "countries"
   ]
  },
  {
   "cell_type": "code",
   "execution_count": 258,
   "metadata": {},
   "outputs": [],
   "source": [
    "with open('../movie_data.json', 'w') as f:\n",
    "    json.dump(data2, f)"
   ]
  },
  {
   "cell_type": "code",
   "execution_count": null,
   "metadata": {},
   "outputs": [],
   "source": []
  }
 ],
 "metadata": {
  "kernelspec": {
   "display_name": "Python 3",
   "language": "python",
   "name": "python3"
  },
  "language_info": {
   "codemirror_mode": {
    "name": "ipython",
    "version": 3
   },
   "file_extension": ".py",
   "mimetype": "text/x-python",
   "name": "python",
   "nbconvert_exporter": "python",
   "pygments_lexer": "ipython3",
   "version": "3.7.5"
  }
 },
 "nbformat": 4,
 "nbformat_minor": 2
}
