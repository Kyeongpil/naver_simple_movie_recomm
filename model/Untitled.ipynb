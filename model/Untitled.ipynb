{
 "cells": [
  {
   "cell_type": "code",
   "execution_count": 1,
   "metadata": {},
   "outputs": [],
   "source": [
    "import torch\n",
    "from dataset import MovieDataset, PadCollate\n",
    "from torch.utils.data import DataLoader\n",
    "from model import MoviePredict\n",
    "import pickle"
   ]
  },
  {
   "cell_type": "code",
   "execution_count": 2,
   "metadata": {},
   "outputs": [],
   "source": [
    "movie_dataset = MovieDataset('../train_data.json')"
   ]
  },
  {
   "cell_type": "code",
   "execution_count": 3,
   "metadata": {},
   "outputs": [],
   "source": [
    "dataloader = DataLoader(movie_dataset, collate_fn=PadCollate(), batch_size=3, shuffle=True)"
   ]
  },
  {
   "cell_type": "code",
   "execution_count": 5,
   "metadata": {},
   "outputs": [],
   "source": [
    "with open('../meta_data.pkl', 'rb') as f:\n",
    "    data = pickle.load(f)\n",
    "    \n",
    "voca_num = len(data['vocab'])\n",
    "actor_num = len(data['actors'])\n",
    "director_num = len(data['directors'])\n",
    "category_num = len(data['categories'])\n",
    "country_num = len(data['countries'])"
   ]
  },
  {
   "cell_type": "code",
   "execution_count": 6,
   "metadata": {},
   "outputs": [],
   "source": [
    "model = MoviePredict(voca_num, actor_num, director_num, category_num, country_num)"
   ]
  },
  {
   "cell_type": "code",
   "execution_count": 7,
   "metadata": {},
   "outputs": [],
   "source": [
    "input_ = next(iter(dataloader))[:-1]\n",
    "story = input_[-1]"
   ]
  },
  {
   "cell_type": "code",
   "execution_count": 8,
   "metadata": {},
   "outputs": [],
   "source": [
    "word_embs = model.word_embedding(story)"
   ]
  },
  {
   "cell_type": "code",
   "execution_count": 9,
   "metadata": {},
   "outputs": [],
   "source": [
    "from torch import nn\n",
    "conv = nn.Conv1d(1, 128, (4, 256))"
   ]
  },
  {
   "cell_type": "code",
   "execution_count": 10,
   "metadata": {},
   "outputs": [
    {
     "data": {
      "text/plain": [
       "torch.Size([3, 128, 297, 1])"
      ]
     },
     "execution_count": 10,
     "metadata": {},
     "output_type": "execute_result"
    }
   ],
   "source": [
    "conv(word_embs.unsqueeze(1)).shape"
   ]
  },
  {
   "cell_type": "code",
   "execution_count": 11,
   "metadata": {},
   "outputs": [],
   "source": [
    "conv_norm = nn.BatchNorm1d(128)"
   ]
  },
  {
   "cell_type": "code",
   "execution_count": 12,
   "metadata": {},
   "outputs": [
    {
     "data": {
      "text/plain": [
       "tensor([[[-1.6841, -0.6061, -0.2072,  ..., -0.0089, -0.0089, -0.0089],\n",
       "         [ 1.3599, -0.0505,  0.6139,  ...,  0.0311,  0.0311,  0.0311],\n",
       "         [ 0.5915,  0.1102, -0.9692,  ..., -0.0791, -0.0791, -0.0791],\n",
       "         ...,\n",
       "         [-0.8811,  0.9990,  0.8670,  ..., -0.0847, -0.0847, -0.0847],\n",
       "         [-1.5680, -0.7995, -2.0077,  ..., -0.0037, -0.0037, -0.0037],\n",
       "         [ 0.8684,  0.0218,  0.7606,  ...,  0.0212,  0.0212,  0.0212]],\n",
       "\n",
       "        [[ 0.8591, -1.0786, -0.7907,  ..., -0.1521,  0.2953, -1.0002],\n",
       "         [ 0.8362,  0.1380,  0.0977,  ..., -0.5715,  0.9822,  0.3155],\n",
       "         [ 0.5375, -0.0043, -1.5032,  ...,  1.6307,  0.1475,  1.9939],\n",
       "         ...,\n",
       "         [ 1.4155, -1.1499, -0.0315,  ..., -0.2692,  0.9232, -0.0163],\n",
       "         [-1.3947, -2.0076, -0.5071,  ...,  0.9779, -0.5269, -0.0319],\n",
       "         [ 0.6680, -0.3207,  1.6441,  ...,  0.1696, -0.1910, -0.1247]],\n",
       "\n",
       "        [[-1.5656,  1.0935,  0.6706,  ..., -0.0089, -0.0089, -0.0089],\n",
       "         [ 0.1580, -1.3383,  1.1796,  ...,  0.0311,  0.0311,  0.0311],\n",
       "         [-1.0871,  1.3122, -0.2441,  ..., -0.0791, -0.0791, -0.0791],\n",
       "         ...,\n",
       "         [ 1.4824,  0.6203, -1.6982,  ..., -0.0847, -0.0847, -0.0847],\n",
       "         [-0.8722, -0.4572,  0.3894,  ..., -0.0037, -0.0037, -0.0037],\n",
       "         [-2.5923,  0.4599, -1.3479,  ...,  0.0212,  0.0212,  0.0212]]],\n",
       "       grad_fn=<NativeBatchNormBackward>)"
      ]
     },
     "execution_count": 12,
     "metadata": {},
     "output_type": "execute_result"
    }
   ],
   "source": [
    "conv_norm(conv(word_embs.unsqueeze(1)).squeeze(3))"
   ]
  },
  {
   "cell_type": "code",
   "execution_count": 13,
   "metadata": {},
   "outputs": [],
   "source": [
    "dropout = nn.Dropout(0.3)"
   ]
  },
  {
   "cell_type": "code",
   "execution_count": 14,
   "metadata": {},
   "outputs": [
    {
     "data": {
      "text/plain": [
       "torch.Size([3, 128, 1])"
      ]
     },
     "execution_count": 14,
     "metadata": {},
     "output_type": "execute_result"
    }
   ],
   "source": [
    "nn.functional.adaptive_max_pool1d(dropout(conv_norm(conv(word_embs.unsqueeze(1)).squeeze(3))), 1).shape"
   ]
  },
  {
   "cell_type": "code",
   "execution_count": 16,
   "metadata": {},
   "outputs": [
    {
     "data": {
      "text/plain": [
       "torch.Size([3, 1])"
      ]
     },
     "execution_count": 16,
     "metadata": {},
     "output_type": "execute_result"
    }
   ],
   "source": [
    "model(*input_).shape"
   ]
  },
  {
   "cell_type": "code",
   "execution_count": 17,
   "metadata": {},
   "outputs": [],
   "source": [
    "gru = nn.GRU(256, 256, num_layers=4, batch_first=True, bidirectional=True)"
   ]
  },
  {
   "cell_type": "code",
   "execution_count": 19,
   "metadata": {},
   "outputs": [],
   "source": [
    "output, h_n = gru(word_embs)"
   ]
  },
  {
   "cell_type": "code",
   "execution_count": 20,
   "metadata": {},
   "outputs": [
    {
     "data": {
      "text/plain": [
       "torch.Size([8, 3, 256])"
      ]
     },
     "execution_count": 20,
     "metadata": {},
     "output_type": "execute_result"
    }
   ],
   "source": [
    "h_n.shape"
   ]
  },
  {
   "cell_type": "code",
   "execution_count": null,
   "metadata": {},
   "outputs": [],
   "source": []
  }
 ],
 "metadata": {
  "kernelspec": {
   "display_name": "Python 3",
   "language": "python",
   "name": "python3"
  },
  "language_info": {
   "codemirror_mode": {
    "name": "ipython",
    "version": 3
   },
   "file_extension": ".py",
   "mimetype": "text/x-python",
   "name": "python",
   "nbconvert_exporter": "python",
   "pygments_lexer": "ipython3",
   "version": "3.7.5"
  }
 },
 "nbformat": 4,
 "nbformat_minor": 2
}
